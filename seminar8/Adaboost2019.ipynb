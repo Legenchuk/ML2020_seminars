{
  "nbformat": 4,
  "nbformat_minor": 0,
  "metadata": {
    "kernelspec": {
      "display_name": "Python 3",
      "language": "python",
      "name": "python3"
    },
    "language_info": {
      "codemirror_mode": {
        "name": "ipython",
        "version": 3
      },
      "file_extension": ".py",
      "mimetype": "text/x-python",
      "name": "python",
      "nbconvert_exporter": "python",
      "pygments_lexer": "ipython3",
      "version": "3.6.4"
    },
    "colab": {
      "name": "Adaboost2019.ipynb",
      "provenance": [],
      "collapsed_sections": [
        "20EFCtZSHh4G",
        "mlIbk5ZXHh4l",
        "t4NhG82kHh4x",
        "0HZehFD4Hh49",
        "A5jwLJEpHh4-",
        "mMpuoifLHh5H",
        "2W6tMfiAHh5k"
      ],
      "include_colab_link": true
    }
  },
  "cells": [
    {
      "cell_type": "markdown",
      "metadata": {
        "id": "view-in-github",
        "colab_type": "text"
      },
      "source": [
        "<a href=\"https://colab.research.google.com/github/NinaMaz/mlss-tutorials/blob/master/Adaboost2019.ipynb\" target=\"_parent\"><img src=\"https://colab.research.google.com/assets/colab-badge.svg\" alt=\"Open In Colab\"/></a>"
      ]
    },
    {
      "cell_type": "code",
      "metadata": {
        "id": "qa2rPyOoHh3W",
        "colab_type": "code",
        "colab": {}
      },
      "source": [
        "!pip install -U scikit-learn \n",
        "!pip install matplotlib\n",
        "!pip install seaborn\n",
        "!pip install numpy\n",
        "!pip install pandas"
      ],
      "execution_count": 0,
      "outputs": []
    },
    {
      "cell_type": "markdown",
      "metadata": {
        "id": "X9vNEXNSHh3d",
        "colab_type": "text"
      },
      "source": [
        "# Adaboost\n",
        "\n",
        "## Boosting\n",
        "\n",
        "The underlying idea of boosting is to combine **cheap weak**\n",
        "predictiors into a strong **powerful ensemble**.\n",
        "\n",
        "![](https://www.researchgate.net/profile/Eiji_Hato/publication/264713074/figure/fig5/AS:614118558023749@1523428682764/Concept-of-AdaBoost.png)"
      ]
    },
    {
      "cell_type": "markdown",
      "metadata": {
        "id": "fUDatGA_Hh3f",
        "colab_type": "text"
      },
      "source": [
        "### AdaBoost\n",
        "\n",
        "This algorithm uses a greedy strategy to construct an additive ensemble of size $T$\n",
        "from a dictionary of basis predictors.\n",
        "\n",
        "The size of the ensemble $T$ is a regularization parameter:\n",
        "* the greater the $T$, the more boosting overfits.\n",
        "\n",
        "**`AdaBoost.M1`**:\n",
        "\n",
        "![alt text](https://i.imgur.com/im1cMeS.jpg)"
      ]
    },
    {
      "cell_type": "markdown",
      "metadata": {
        "id": "-HG3IU9mHh3g",
        "colab_type": "text"
      },
      "source": [
        "#### AdaBoost in SciKit\n",
        "\n",
        "The `ensemble` submodule implements both classification and regression\n",
        "versions of Adaboost\n",
        "* AdaBoostClassifier\n",
        "* AdaBoostRegressor\n",
        "\n",
        "Algorithms differ only in the **loss** used in determining the weight updates."
      ]
    },
    {
      "cell_type": "code",
      "metadata": {
        "id": "lmmZ92hNHh3h",
        "colab_type": "code",
        "colab": {}
      },
      "source": [
        "from sklearn.ensemble import AdaBoostClassifier, AdaBoostRegressor\n",
        "from sklearn.tree import DecisionTreeClassifier, DecisionTreeRegressor"
      ],
      "execution_count": 0,
      "outputs": []
    },
    {
      "cell_type": "markdown",
      "metadata": {
        "id": "LE9cJo9eHh3k",
        "colab_type": "text"
      },
      "source": [
        "### Adaboost params\n",
        "\n",
        "Common parameters:\n",
        "- **n_estimators** -- the maximum size of the ensemble (in **case of a perfect fit** boosting stops earlier);\n",
        "- **base_estimator** -- the base estimator of the ensemble, which must support **sample weighting**;\n",
        "- **learning_rate** -- scales each update, slowing down convergence, but making it more accurate.\n",
        "\n",
        "AdaBoostClassifier only:\n",
        "- **algorithm** -- the AdaBoost version to use:\n",
        "    * _\"SAMME\"_ -- the SAMME (**M1**) discrete boosting algorithm;\n",
        "    * _\"SAMME.R\"_ -- the SAMME.R real boosting algorithm, typically achieves a lower test error with fewer boosting iterations than `SAMME`.\n",
        "    \n",
        "AdaBoostRegressor only:\n",
        "- **loss** -- the loss function to use when updating the weights after each boosting iteration:\n",
        "    * _\"linear\"_ -- absolute loss $L(y, p) = |y-p|$;\n",
        "    * _\"square\"_ -- squared loss $L(y, p) = |y-p|^2$;\n",
        "    * _\"exponential\"_ -- Exponential loss $L(y, p) = 1-e^{-|y-p|}$."
      ]
    },
    {
      "cell_type": "markdown",
      "metadata": {
        "id": "HTEsW4B2Hh3k",
        "colab_type": "text"
      },
      "source": [
        "# Practice: toy example"
      ]
    },
    {
      "cell_type": "code",
      "metadata": {
        "id": "4jBAauIMHh3l",
        "colab_type": "code",
        "colab": {}
      },
      "source": [
        "from sklearn.datasets import make_gaussian_quantiles\n",
        "from sklearn.model_selection import train_test_split\n",
        "from sklearn.metrics import roc_curve, accuracy_score, mean_absolute_error, mean_squared_error, f1_score\n",
        "import matplotlib.pyplot as plt\n",
        "import matplotlib as mpl\n",
        "import seaborn as sns\n",
        "import numpy as np\n",
        "import pandas as pd\n",
        "\n",
        "%matplotlib inline\n",
        "\n",
        "random_state = 1"
      ],
      "execution_count": 0,
      "outputs": []
    },
    {
      "cell_type": "code",
      "metadata": {
        "id": "6JcpR-VBHh3o",
        "colab_type": "code",
        "colab": {}
      },
      "source": [
        "def scikit_example(n_samples, random_state=None):\n",
        "    X1, y1 = make_gaussian_quantiles(cov=2., n_samples=int(0.4*n_samples),\n",
        "                                     n_features=2, n_classes=2,\n",
        "                                     random_state=random_state)\n",
        "    X2, y2 = make_gaussian_quantiles(mean=(3, 3), cov=1.5,\n",
        "                                     n_samples=int(0.6*n_samples),\n",
        "                                     n_features=2, n_classes=2,\n",
        "                                     random_state=random_state)\n",
        "    return np.concatenate((X1, X2)), np.concatenate((y1, 1 - y2))"
      ],
      "execution_count": 0,
      "outputs": []
    },
    {
      "cell_type": "code",
      "metadata": {
        "id": "s48R5vYpHh3r",
        "colab_type": "code",
        "colab": {}
      },
      "source": [
        "X, y = scikit_example(n_samples=500, random_state=random_state)\n",
        "\n",
        "X_train, X_test, y_train, y_test = \\\n",
        "    train_test_split(X, y, test_size=0.5, random_state=random_state)\n",
        "\n",
        "\n",
        "min_, max_ = np.min(X, axis=0) - 1, np.max(X, axis=0) + 1\n",
        "xx, yy = np.meshgrid(np.linspace(min_[0], max_[0], num=51),\n",
        "                     np.linspace(min_[1], max_[1], num=51))"
      ],
      "execution_count": 0,
      "outputs": []
    },
    {
      "cell_type": "code",
      "metadata": {
        "id": "fdCWrCu2Hh3v",
        "colab_type": "code",
        "colab": {}
      },
      "source": [
        "def plot_adaboost(adaboost=None):\n",
        "    mpl.style.use('seaborn')\n",
        "    colors = ['red','green','blue']\n",
        "\n",
        "    ax = plt.figure(figsize=(12, 8)).add_subplot(111)\n",
        "    ax.scatter(X_train[:, 0], X_train[:, 1], c=y_train, cmap=mpl.colors.ListedColormap(colors))\n",
        "\n",
        "    if adaboost:\n",
        "        prob_ = adaboost.predict_proba(np.c_[xx.ravel(), yy.ravel()])[:, 1].reshape(xx.shape)\n",
        "        ax.contourf(xx, yy, prob_, alpha=0.4, cmap=plt.cm.coolwarm)\n",
        "        ax.set_title(\"AdaBoost with %d trees\"%(adaboost.n_estimators,));"
      ],
      "execution_count": 0,
      "outputs": []
    },
    {
      "cell_type": "code",
      "metadata": {
        "id": "4Xjc_fahHh3y",
        "colab_type": "code",
        "colab": {}
      },
      "source": [
        "plot_adaboost()"
      ],
      "execution_count": 0,
      "outputs": []
    },
    {
      "cell_type": "code",
      "metadata": {
        "id": "SuJ_SeTdHh31",
        "colab_type": "code",
        "colab": {}
      },
      "source": [
        "abc1_ = AdaBoostClassifier(DecisionTreeClassifier(max_depth=5),\n",
        "                          n_estimators=5, random_state=random_state)\n",
        "abc1_.fit(X_train, y_train)\n",
        "\n",
        "\n",
        "plot_adaboost(abc1_)"
      ],
      "execution_count": 0,
      "outputs": []
    },
    {
      "cell_type": "code",
      "metadata": {
        "id": "Us_pkn8PHh34",
        "colab_type": "code",
        "colab": {}
      },
      "source": [
        "abc2_ = AdaBoostClassifier(DecisionTreeClassifier(max_depth=5),\n",
        "                          n_estimators=100, random_state=random_state)\n",
        "abc2_.fit(X_train, y_train)\n",
        "\n",
        "plot_adaboost(abc2_)"
      ],
      "execution_count": 0,
      "outputs": []
    },
    {
      "cell_type": "code",
      "metadata": {
        "id": "7B2VrG8UHh36",
        "colab_type": "code",
        "colab": {}
      },
      "source": [
        "abc3_ = AdaBoostClassifier(DecisionTreeClassifier(max_depth=5),\n",
        "                          n_estimators=1000, random_state=random_state)\n",
        "abc3_.fit(X_train, y_train)\n",
        "\n",
        "plot_adaboost(abc2_)"
      ],
      "execution_count": 0,
      "outputs": []
    },
    {
      "cell_type": "code",
      "metadata": {
        "id": "DIMgBQGVHh3-",
        "colab_type": "code",
        "colab": {}
      },
      "source": [
        "ax = plt.figure(figsize=(12, 8)).add_subplot(111)\n",
        "for est_ in abc1_.estimators_:\n",
        "    fpr, tpr, _ = roc_curve(y_test, est_.predict_proba(X_test)[:, 1])\n",
        "    ax.plot(fpr, tpr, color=\"red\", alpha=0.5)\n",
        "\n",
        "fpr, tpr, _ = roc_curve(y_test, abc1_.predict_proba(X_test)[:, 1])\n",
        "ax.plot(fpr, tpr, color=\"black\", label=\"AdaBoost %d\"%(abc1_.n_estimators,))\n",
        "\n",
        "ax.legend(fontsize=\"xx-large\")\n",
        "ax.set_title(\"ROC curve for AdaBoost\");"
      ],
      "execution_count": 0,
      "outputs": []
    },
    {
      "cell_type": "code",
      "metadata": {
        "id": "IGY_PoIHHh4B",
        "colab_type": "code",
        "colab": {}
      },
      "source": [
        "ax = plt.figure(figsize=(12, 8)).add_subplot(111)\n",
        "for est_ in abc2_.estimators_:\n",
        "    fpr, tpr, _ = roc_curve(y_test, est_.predict_proba(X_test)[:, 1])\n",
        "    ax.plot(fpr, tpr, color=\"red\", alpha=0.05)\n",
        "\n",
        "fpr, tpr, _ = roc_curve(y_test, abc2_.predict_proba(X_test)[:, 1])\n",
        "ax.plot(fpr, tpr, color=\"black\", label=\"AdaBoost %d\"%(abc2_.n_estimators,))\n",
        "\n",
        "ax.legend(fontsize=\"xx-large\")\n",
        "ax.set_title(\"ROC curve for AdaBoost\");"
      ],
      "execution_count": 0,
      "outputs": []
    },
    {
      "cell_type": "code",
      "metadata": {
        "id": "A2oSq_6GHh4D",
        "colab_type": "code",
        "colab": {}
      },
      "source": [
        "ax = plt.figure(figsize=(12, 8)).add_subplot(111)\n",
        "for est_ in abc3_.estimators_:\n",
        "    fpr, tpr, _ = roc_curve(y_test, est_.predict_proba(X_test)[:, 1])\n",
        "    ax.plot(fpr, tpr, color=\"red\", alpha=0.05)\n",
        "\n",
        "fpr, tpr, _ = roc_curve(y_test, abc3_.predict_proba(X_test)[:, 1])\n",
        "ax.plot(fpr, tpr, color=\"black\", label=\"AdaBoost %d\"%(abc3_.n_estimators,))\n",
        "\n",
        "ax.legend(fontsize=\"xx-large\")\n",
        "ax.set_title(\"ROC curve for AdaBoost\");"
      ],
      "execution_count": 0,
      "outputs": []
    },
    {
      "cell_type": "markdown",
      "metadata": {
        "id": "20EFCtZSHh4G",
        "colab_type": "text"
      },
      "source": [
        "# Adult dataset\n"
      ]
    },
    {
      "cell_type": "markdown",
      "metadata": {
        "id": "1quX-G5jHh4H",
        "colab_type": "text"
      },
      "source": [
        "Download the dataset. If you use Windows, you can download it manually by the link [https://github.com/amueller/advanced_training/raw/master/data/adult.csv](https://github.com/amueller/advanced_training/raw/master/data/adult.csv)"
      ]
    },
    {
      "cell_type": "code",
      "metadata": {
        "id": "3w5D-RlhHh4J",
        "colab_type": "code",
        "colab": {}
      },
      "source": [
        "!wget https://github.com/amueller/advanced_training/raw/master/data/adult.csv"
      ],
      "execution_count": 0,
      "outputs": []
    },
    {
      "cell_type": "markdown",
      "metadata": {
        "id": "sCj0K4SUHh4M",
        "colab_type": "text"
      },
      "source": [
        "Let's look at it. We have some information about different persons. Our target value will be the income column. Since we have the information whether the income is above or below 50K, we will solve binary classification problem."
      ]
    },
    {
      "cell_type": "code",
      "metadata": {
        "id": "mazsUS6KHh4N",
        "colab_type": "code",
        "colab": {}
      },
      "source": [
        "data = pd.read_csv('adult.csv', index_col=0)\n",
        "print(data.shape)\n",
        "data.head()"
      ],
      "execution_count": 0,
      "outputs": []
    },
    {
      "cell_type": "code",
      "metadata": {
        "id": "LeC68rflHh4U",
        "colab_type": "code",
        "colab": {}
      },
      "source": [
        "size_before = data.shape[0]\n",
        "(data.astype(str) == ' ?').any()"
      ],
      "execution_count": 0,
      "outputs": []
    },
    {
      "cell_type": "code",
      "metadata": {
        "id": "huRr6ednHh4W",
        "colab_type": "code",
        "colab": {}
      },
      "source": [
        "data = data[data.workclass != ' ?']\n",
        "data = data[data.occupation != ' ?']\n",
        "data = data[data['native-country'] != ' ?']\n",
        "\n",
        "# data = data[np.logical_and(data.workclass != ' ?', data.occupation != ' ?')]\n",
        "\n",
        "size_after = data.shape[0]\n",
        "\n",
        "(data.astype(str) == '?').any()"
      ],
      "execution_count": 0,
      "outputs": []
    },
    {
      "cell_type": "code",
      "metadata": {
        "id": "E54bdFmpHh4Y",
        "colab_type": "code",
        "colab": {}
      },
      "source": [
        "data.shape"
      ],
      "execution_count": 0,
      "outputs": []
    },
    {
      "cell_type": "markdown",
      "metadata": {
        "id": "KbzCGGfkHh4b",
        "colab_type": "text"
      },
      "source": [
        "Let's conver our target income to binary value (0 and 1). "
      ]
    },
    {
      "cell_type": "code",
      "metadata": {
        "id": "TExEBhiwHh4c",
        "colab_type": "code",
        "colab": {}
      },
      "source": [
        "if 'income' in data.columns:\n",
        "    y = (data['income'] == ' >50K').values.astype(np.int32)\n",
        "    del data['income']\n",
        "    \n",
        "del data['native-country']\n",
        "    \n",
        "y.shape"
      ],
      "execution_count": 0,
      "outputs": []
    },
    {
      "cell_type": "markdown",
      "metadata": {
        "id": "zkYF7_JqHh4f",
        "colab_type": "text"
      },
      "source": [
        "We have some categorical data in our dataset. Let us use one-hot-encoding for this columns. In order to automaticalli convert the data you should use method pd.get_dummies()"
      ]
    },
    {
      "cell_type": "code",
      "metadata": {
        "id": "8StJ0u-JHh4g",
        "colab_type": "code",
        "colab": {}
      },
      "source": [
        "data = pd.get_dummies(data, columns=['workclass', 'education', 'marital-status', 'occupation', 'relationship', 'race', 'gender'])\n",
        "data.head()"
      ],
      "execution_count": 0,
      "outputs": []
    },
    {
      "cell_type": "code",
      "metadata": {
        "id": "88qB6THmHh4i",
        "colab_type": "code",
        "colab": {}
      },
      "source": [
        "data.shape, y.shape"
      ],
      "execution_count": 0,
      "outputs": []
    },
    {
      "cell_type": "markdown",
      "metadata": {
        "id": "mlIbk5ZXHh4l",
        "colab_type": "text"
      },
      "source": [
        "# should we scale our data before AdaBoost?\n",
        "\n",
        "![](https://telegra.ph/file/db989d671719e18433b57.jpg)"
      ]
    },
    {
      "cell_type": "code",
      "metadata": {
        "id": "WaYNpVkrHh4l",
        "colab_type": "code",
        "colab": {}
      },
      "source": [
        "from sklearn.preprocessing import scale\n",
        "\n",
        "X = scale(data.astype(np.float))"
      ],
      "execution_count": 0,
      "outputs": []
    },
    {
      "cell_type": "markdown",
      "metadata": {
        "id": "KSJq4QrZHh4o",
        "colab_type": "text"
      },
      "source": [
        "!!! Don't change random state"
      ]
    },
    {
      "cell_type": "code",
      "metadata": {
        "id": "onPgbo2zHh4o",
        "colab_type": "code",
        "colab": {}
      },
      "source": [
        "X_train, X_test, y_train, y_test = \\\n",
        "    train_test_split(X, y, test_size=0.2, random_state=9, stratify=y)\n",
        "\n",
        "X_val, X_test, y_val, y_test = \\\n",
        "    train_test_split(X_test, y_test, test_size=0.5, random_state=9, stratify=y_test)"
      ],
      "execution_count": 0,
      "outputs": []
    },
    {
      "cell_type": "code",
      "metadata": {
        "id": "KYfVD2nKHh4r",
        "colab_type": "code",
        "colab": {}
      },
      "source": [
        "X_train.shape, X_val.shape, X_test.shape"
      ],
      "execution_count": 0,
      "outputs": []
    },
    {
      "cell_type": "code",
      "metadata": {
        "id": "Roo7khE5Hh4t",
        "colab_type": "code",
        "colab": {}
      },
      "source": [
        "def get_test_train_errors(_adaboost):\n",
        "    train_errors = []\n",
        "\n",
        "    for y in _adaboost.staged_predict(X_train):\n",
        "        train_errors.append(f1_score(y_train, y))\n",
        "\n",
        "    test_errors = []\n",
        "\n",
        "    for y in _adaboost.staged_predict(X_val):\n",
        "        test_errors.append(f1_score(y_val, y))\n",
        "        \n",
        "    print('F1 validation score:', f1_score(y_val, _adaboost.predict(X_val)))\n",
        "    \n",
        "    plt.figure(figsize=(12, 8))\n",
        "    plt.plot(train_errors, label='train')\n",
        "    plt.plot(test_errors, label='test')\n",
        "    plt.legend(loc='best')"
      ],
      "execution_count": 0,
      "outputs": []
    },
    {
      "cell_type": "markdown",
      "metadata": {
        "id": "t4NhG82kHh4x",
        "colab_type": "text"
      },
      "source": [
        "## F1 score\n",
        "\n",
        "Since we consider binary classification, it is good to use some proper measure. One of them — F1\n",
        "\n",
        "\n",
        "$$F1 = 2 * (precision * recall) / (precision + recall)$$\n",
        "\n",
        "![](https://upload.wikimedia.org/wikipedia/commons/thumb/2/26/Precisionrecall.svg/350px-Precisionrecall.svg.png)"
      ]
    },
    {
      "cell_type": "markdown",
      "metadata": {
        "id": "zdJHLa3rHh4y",
        "colab_type": "text"
      },
      "source": [
        "Let's train AdaBoost with a lot of small trees"
      ]
    },
    {
      "cell_type": "code",
      "metadata": {
        "id": "rx_35NuqHh4z",
        "colab_type": "code",
        "colab": {}
      },
      "source": [
        "adaboost = AdaBoostClassifier(base_estimator=DecisionTreeClassifier(max_depth=1), n_estimators=1000)\n",
        "adaboost.fit(X_train, y_train)\n",
        "\n",
        "get_test_train_errors(adaboost)"
      ],
      "execution_count": 0,
      "outputs": []
    },
    {
      "cell_type": "markdown",
      "metadata": {
        "id": "ZD6rVFv0Hh42",
        "colab_type": "text"
      },
      "source": [
        "Now, increase the depth of trees"
      ]
    },
    {
      "cell_type": "code",
      "metadata": {
        "id": "sxWyiy1VHh43",
        "colab_type": "code",
        "colab": {}
      },
      "source": [
        "adaboost = AdaBoostClassifier(base_estimator=DecisionTreeClassifier(max_depth=5), n_estimators=1000)\n",
        "adaboost.fit(X_train, y_train)\n",
        "\n",
        "get_test_train_errors(adaboost)"
      ],
      "execution_count": 0,
      "outputs": []
    },
    {
      "cell_type": "markdown",
      "metadata": {
        "id": "2m8ZPeeGHh46",
        "colab_type": "text"
      },
      "source": [
        "Leave trees depth as 5, decrease n_estimators to 200"
      ]
    },
    {
      "cell_type": "code",
      "metadata": {
        "id": "vt4XLtgeHh46",
        "colab_type": "code",
        "colab": {}
      },
      "source": [
        "adaboost = AdaBoostClassifier(base_estimator=DecisionTreeClassifier(max_depth=5), n_estimators=200)\n",
        "adaboost.fit(X_train, y_train)\n",
        "\n",
        "get_test_train_errors(adaboost)"
      ],
      "execution_count": 0,
      "outputs": []
    },
    {
      "cell_type": "markdown",
      "metadata": {
        "id": "0HZehFD4Hh49",
        "colab_type": "text"
      },
      "source": [
        "## Hello, overfitting!\n",
        "\n",
        "![](https://upload.wikimedia.org/wikipedia/commons/thumb/1/19/Overfitting.svg/300px-Overfitting.svg.png)"
      ]
    },
    {
      "cell_type": "markdown",
      "metadata": {
        "id": "A5jwLJEpHh4-",
        "colab_type": "text"
      },
      "source": [
        "# Early stopping\n",
        "\n",
        "Ok, we understood, that we don't need to much trees: we overfit. But if we take not enough trees, we will overfit. Here comes the regularization.\n",
        "\n",
        "And one of the best regularization methods (best in practice), that is applied to ensembles (and to NN) is early stopping.\n",
        "\n",
        "## The idea behind it is simple: if our validation loss didn't increase last 'n_tolerance' steps, then we stop adding new trees.\n",
        "\n",
        "![](https://deeplearning4j.org/images/guide/earlystopping.png)\n"
      ]
    },
    {
      "cell_type": "markdown",
      "metadata": {
        "id": "-qdApGmTHh4_",
        "colab_type": "text"
      },
      "source": [
        "Let's implement Early Stopping for adaboost algorithm. We will extend the class AdaBoostClassifier. In order to implement the Early Stopping, you should understand, that it is easier to cut the final algorithm (select only a number of first trees) instead of training it each time."
      ]
    },
    {
      "cell_type": "code",
      "metadata": {
        "id": "Z5VVNZ14Hh4_",
        "colab_type": "code",
        "colab": {}
      },
      "source": [
        "class EarlyStoppingAdaBoost(AdaBoostClassifier):\n",
        "    def __init__(self, n_tolerance, score_func, *args, **kwargs):\n",
        "        super().__init__(*args, **kwargs)\n",
        "        self.n_tolerance = n_tolerance\n",
        "        self.score_func = score_func\n",
        "        \n",
        "    def fit(self, X_train, y_train, X_val, y_val):\n",
        "        # train big AdaBoost\n",
        "        super().fit(X_train, y_train)\n",
        "        \n",
        "        # Now you have to write an early stopping algorithm\n",
        "        ######################\n",
        "        # YOUR CODE HERE!\n",
        "        # YOUR CODE HERE!\n",
        "        ######################\n",
        "        \n",
        "        return self"
      ],
      "execution_count": 0,
      "outputs": []
    },
    {
      "cell_type": "code",
      "metadata": {
        "id": "a_nsmLkiHh5C",
        "colab_type": "code",
        "colab": {}
      },
      "source": [
        "adaboost = EarlyStoppingAdaBoost(base_estimator=DecisionTreeClassifier(max_depth=5),\n",
        "                                 n_estimators=200,\n",
        "                                 n_tolerance=10, score_func=f1_score)\n",
        "adaboost.fit(X_train, y_train, X_val, y_val)\n",
        "\n",
        "get_test_train_errors(adaboost)"
      ],
      "execution_count": 0,
      "outputs": []
    },
    {
      "cell_type": "code",
      "metadata": {
        "id": "n6_qaMzIHh5F",
        "colab_type": "code",
        "colab": {}
      },
      "source": [
        "adaboost = EarlyStoppingAdaBoost(base_estimator=DecisionTreeClassifier(max_depth=1),\n",
        "                                 n_estimators=1000,\n",
        "                                 n_tolerance=10, score_func=f1_score)\n",
        "adaboost.fit(X_train, y_train, X_val, y_val)\n",
        "\n",
        "get_test_train_errors(adaboost)"
      ],
      "execution_count": 0,
      "outputs": []
    },
    {
      "cell_type": "markdown",
      "metadata": {
        "id": "mMpuoifLHh5H",
        "colab_type": "text"
      },
      "source": [
        "# Feature Importance: how?"
      ]
    },
    {
      "cell_type": "code",
      "metadata": {
        "id": "r6Kq5lvyHh5J",
        "colab_type": "code",
        "colab": {}
      },
      "source": [
        "importances = adaboost.feature_importances_\n",
        "std = np.std([tree.feature_importances_ for tree in adaboost.estimators_],\n",
        "             axis=0)\n",
        "indices = np.argsort(importances)[::-1]\n",
        "\n",
        "print(\"Feature ranking:\")\n",
        "\n",
        "for f in range(X.shape[1]):\n",
        "    print(\"%d. feature %s (%f)\" % (f + 1, data.columns[f], importances[indices[f]]))"
      ],
      "execution_count": 0,
      "outputs": []
    },
    {
      "cell_type": "markdown",
      "metadata": {
        "id": "D1-NwEv5Hh5L",
        "colab_type": "text"
      },
      "source": [
        "# Stacking: Voting\n",
        "\n",
        "Imagine you have two powerful algorithms, such as SVM and AdaBoost. You found the best hyperparameters for each of the algorithms. Usually in practice you can increase the prediction quality by combining two algorithms using stacking.\n",
        "\n",
        "One of the way to perform stacking is voting. If you have two algorithms $clf_1(x)$ and $clf_2(x)$, then the prediction will be \n",
        "\n",
        "$$result(x) = clf_1(x) * \\alpha + clf_2(x) * (1 - \\alpha),$$\n",
        "\n",
        "where $\\alpha \\in [0, 1]$"
      ]
    },
    {
      "cell_type": "code",
      "metadata": {
        "id": "pQUHr0giHh5M",
        "colab_type": "code",
        "colab": {}
      },
      "source": [
        "from sklearn.svm import SVC\n",
        "from sklearn.neighbors import KNeighborsClassifier\n",
        "from sklearn.ensemble import RandomForestClassifier\n",
        "from sklearn.ensemble import VotingClassifier\n",
        "from sklearn.model_selection import cross_val_score"
      ],
      "execution_count": 0,
      "outputs": []
    },
    {
      "cell_type": "code",
      "metadata": {
        "id": "fMufwDrGHh5O",
        "colab_type": "code",
        "colab": {}
      },
      "source": [
        "clf1 = AdaBoostClassifier(base_estimator=DecisionTreeClassifier(max_depth=5),\n",
        "                                 n_estimators=20)\n",
        "clf2 = AdaBoostClassifier(base_estimator=DecisionTreeClassifier(max_depth=3),\n",
        "                                 n_estimators=50)\n",
        "\n",
        "\n",
        "mix_clf_scores = []\n",
        "for alpha in np.linspace(0., 1., 10):\n",
        "    clf = VotingClassifier([('clf1', clf1), ('clf2', clf2)], 'soft', [alpha, 1-alpha])\n",
        "    clf.fit(X_train, y_train)\n",
        "    \n",
        "    f1 = f1_score(y_val, clf.predict(X_val))\n",
        "    \n",
        "    mix_clf_scores.append(f1)\n"
      ],
      "execution_count": 0,
      "outputs": []
    },
    {
      "cell_type": "code",
      "metadata": {
        "id": "BxGe1_9AHh5R",
        "colab_type": "code",
        "colab": {}
      },
      "source": [
        "plt.plot(np.linspace(0., 1., 10), mix_clf_scores)\n",
        "plt.xlabel('alpha')\n",
        "plt.ylabel('f1_score')\n",
        "plt.title('VotingClassifier scores depending from weights')"
      ],
      "execution_count": 0,
      "outputs": []
    },
    {
      "cell_type": "code",
      "metadata": {
        "id": "rqq2YlQsHh5V",
        "colab_type": "code",
        "colab": {}
      },
      "source": [
        ""
      ],
      "execution_count": 0,
      "outputs": []
    },
    {
      "cell_type": "markdown",
      "metadata": {
        "id": "UNUqLGCRHh5X",
        "colab_type": "text"
      },
      "source": [
        "# Stacking: Meta-learner\n",
        "\n",
        "![](https://blogs.sas.com/content/subconsciousmusings/files/2017/05/modelstacking.png)\n",
        "\n",
        "Another possible solution for combination of several algorithms: learning some meta algorithm on the top of some base algorithms. For example, you have trained such algorithms, as SVM, Random Forest and Adaboost on your dataset. Each of these algorithms is able to return some scores, that you can use as features of the input objects. After it you can train some easy linear model (linear regression, logistic regression) on this features (which are the output of base algorithms).\n",
        "\n",
        "## What we can use as the information from the base algorithms?\n",
        "\n",
        "![](https://telegra.ph/file/f8b9d813663403520cfc6.jpg)\n",
        "\n",
        "If you would like to construct such kind of stacking, you should be aware of overfitting. If you use the same train set for both base learners and meta learners, you will overfit.\n",
        "\n",
        "\n",
        "\n",
        "So, your task for now is to implement stacking. You can choose what to do yourself:\n",
        "\n",
        "* Use K-fold stacking\n",
        "* Split your data into train and calibration sets\n",
        "* Use train set for both training and calibration, and then obtain overfitting\n",
        "\n"
      ]
    },
    {
      "cell_type": "code",
      "metadata": {
        "id": "f1Uh_5JmHh5Y",
        "colab_type": "code",
        "colab": {}
      },
      "source": [
        "from sklearn.linear_model import LogisticRegression\n",
        "from sklearn.model_selection import StratifiedKFold, cross_val_predict\n",
        "from sklearn.base import clone\n",
        "\n",
        "class MetaLogisticRegression(LogisticRegression):\n",
        "    def __init__(self, base_learners, penalty='l2', dual=False, tol=0.0001,\n",
        "                 C=1.0, fit_intercept=True, intercept_scaling=1,\n",
        "                 class_weight=None, random_state=None, solver='liblinear',\n",
        "                 max_iter=100, multi_class='ovr', verbose=0,\n",
        "                 warm_start=False, n_jobs=None):\n",
        "        super().__init__(penalty, dual, tol, C, fit_intercept, intercept_scaling,\n",
        "                         class_weight, random_state, solver, max_iter, multi_class,\n",
        "                         verbose, warm_start, n_jobs)\n",
        "        self.base_learners = base_learners\n",
        "        \n",
        "        \n",
        "    def fit_predict_base_learners(self, _X, _y):\n",
        "        # write a function, that will feat each base classiffier and\n",
        "        # return predictions of base learners for the train set (M1, M2 in algorithm)\n",
        "        # HINT: from sklearn.model_selection import KFold\n",
        "        # https://scikit-learn.org/stable/modules/generated/sklearn.model_selection.KFold.html\n",
        "        ######################\n",
        "        # YOUR CODE HERE!      \n",
        "        # YOUR CODE HERE!\n",
        "        ######################\n",
        "        \n",
        "    def fit_base_learners_full(self, _X, _y):\n",
        "        # write a function to fit a base learners on the whole(!) train set\n",
        "        ######################\n",
        "        # YOUR CODE HERE!\n",
        "        # YOUR CODE HERE!\n",
        "        ######################\n",
        "        \n",
        "    def get_base_predictions(self, _X):\n",
        "        # write a function, get the predictions of each base algorithm and return it\n",
        "        # in the form of matrix of shape [X.shape[0], n_base_algorithms]\n",
        "        ######################\n",
        "        # YOUR CODE HERE!\n",
        "        # YOUR CODE HERE!\n",
        "        ######################\n",
        "        \n",
        "    def fit(self, _X, _y):\n",
        "        # K-fold fitting of base learners\n",
        "        base_predictions = self.fit_predict_base_learners(_X, _y)\n",
        "        \n",
        "        # learn meta Logistic Regression\n",
        "        super().fit(base_predictions, _y)\n",
        "        \n",
        "        # fitting for test predictions\n",
        "        self.fit_base_learners_full(_X, _y)        \n",
        "        return self\n",
        "    \n",
        "    def predict(self, _X):\n",
        "        base_predictions = self.get_base_predictions(_X)\n",
        "        return super().predict(base_predictions)"
      ],
      "execution_count": 0,
      "outputs": []
    },
    {
      "cell_type": "code",
      "metadata": {
        "id": "QJOV_FjaHh5a",
        "colab_type": "code",
        "colab": {}
      },
      "source": [
        "clf1 = AdaBoostClassifier(base_estimator=DecisionTreeClassifier(max_depth=5),\n",
        "                                 n_estimators=20)\n",
        "clf2 = AdaBoostClassifier(base_estimator=DecisionTreeClassifier(max_depth=3),\n",
        "                                 n_estimators=50)\n",
        "\n",
        "meta = MetaLogisticRegression(base_learners=[clf1, clf2])\n",
        "meta.fit(X_train, y_train)"
      ],
      "execution_count": 0,
      "outputs": []
    },
    {
      "cell_type": "code",
      "metadata": {
        "id": "VbKkxSYGHh5i",
        "colab_type": "code",
        "colab": {}
      },
      "source": [
        "f1_score(y_val, meta.predict(X_val))"
      ],
      "execution_count": 0,
      "outputs": []
    },
    {
      "cell_type": "markdown",
      "metadata": {
        "id": "2W6tMfiAHh5k",
        "colab_type": "text"
      },
      "source": [
        "# Snickers Challenge\n",
        "\n",
        "Now let's check your imagination in designing ML algorithms. You task is to construct an algorithm in order to achive the highest f1 score on the dataset we considered today.\n",
        "\n",
        "The winner will obtain:\n",
        "\n",
        "![](https://www.utkonos.ru/resample/450x450q95/images/photo/3220/3220214H.jpg?mtime=5bb36059)\n",
        "\n",
        "You have X_train, X_val, X_test. You can train/validate on both X_train and X_val on your choice. X_test — this is only for test prediction.\n",
        "\n",
        "Key ingredients to success in Kaggle:\n",
        "* Boosting\n",
        "* Stacking\n",
        "* Feature Engineering (removing non-important features, constructing new features)\n",
        "* Data preprocessing (outliers)\n",
        "\n",
        "You may start with stacking of several algorithms of different nature.\n",
        "\n",
        "!!! Share your score here: https://goo.gl/forms/iINp60KzOwilIk6p1"
      ]
    },
    {
      "cell_type": "code",
      "metadata": {
        "id": "V3qMFAViHh5m",
        "colab_type": "code",
        "colab": {}
      },
      "source": [
        "def get_test_score(y_pred):\n",
        "    return f1_score(y_pred, y_test)"
      ],
      "execution_count": 0,
      "outputs": []
    },
    {
      "cell_type": "code",
      "metadata": {
        "id": "y4wD-ubiHh5p",
        "colab_type": "code",
        "colab": {}
      },
      "source": [
        ""
      ],
      "execution_count": 0,
      "outputs": []
    },
    {
      "cell_type": "code",
      "metadata": {
        "id": "mwT88vZSHh5r",
        "colab_type": "code",
        "colab": {}
      },
      "source": [
        ""
      ],
      "execution_count": 0,
      "outputs": []
    },
    {
      "cell_type": "code",
      "metadata": {
        "id": "z4aGtFZwHh5v",
        "colab_type": "code",
        "colab": {}
      },
      "source": [
        ""
      ],
      "execution_count": 0,
      "outputs": []
    },
    {
      "cell_type": "code",
      "metadata": {
        "id": "XCoZM5gTHh5x",
        "colab_type": "code",
        "colab": {}
      },
      "source": [
        ""
      ],
      "execution_count": 0,
      "outputs": []
    }
  ]
}