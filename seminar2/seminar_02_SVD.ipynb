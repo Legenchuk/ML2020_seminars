{
 "cells": [
  {
   "cell_type": "markdown",
   "metadata": {},
   "source": [
    "<a href=\"https://colab.research.google.com/github/adasegroup/ML2020_seminars/blob/master/seminar2/seminar_02_SVD.ipynb\" target=\"_parent\"><img src=\"https://colab.research.google.com/assets/colab-badge.svg\" alt=\"Open In Colab\"/></a>"
   ]
  },
  {
   "cell_type": "markdown",
   "metadata": {},
   "source": [
    "# Seminar 2: Linear Regression, LSE, SVD  \n"
   ]
  },
  {
   "cell_type": "code",
   "execution_count": null,
   "metadata": {},
   "outputs": [],
   "source": [
    "%matplotlib inline\n",
    "import warnings\n",
    "import numpy as np\n",
    "import matplotlib.pyplot as plt\n",
    "import seaborn as sns\n",
    "sns.set(font_scale=1.5)\n",
    "np.random.seed(42)\n",
    "warnings.filterwarnings(\"ignore\")"
   ]
  },
  {
   "cell_type": "markdown",
   "metadata": {},
   "source": [
    "## 1D signal reconstriction with Least Squares Estimation and Singular Value Decomposition\n",
    "\n",
    "#### Here we build a \"signal\" $f$ represented as a sum of two sinusoidal functions."
   ]
  },
  {
   "cell_type": "code",
   "execution_count": null,
   "metadata": {},
   "outputs": [],
   "source": [
    "a1 = 10.\n",
    "a2 = 1.\n",
    "w1 = 1.\n",
    "w2 = 12.\n",
    "N = 256"
   ]
  },
  {
   "cell_type": "code",
   "execution_count": null,
   "metadata": {},
   "outputs": [],
   "source": [
    "x = np.linspace(-4, 4, N)\n",
    "f = a1 * np.sin(w1 * x) + a2 * np.sin(w2 * x)"
   ]
  },
  {
   "cell_type": "code",
   "execution_count": null,
   "metadata": {},
   "outputs": [],
   "source": [
    "plt.figure(figsize=(12,6))\n",
    "plt.plot(x, f, linewidth=2)"
   ]
  },
  {
   "cell_type": "markdown",
   "metadata": {},
   "source": [
    "We generate a \"measurement operator\" $A$ represented as a K-diagonal matrix (i.e., its K first diagonals are nonzero).\n",
    "\n",
    "The \"measurement\" operation performed with this kind of an operator looks like a convolution with a constant kernel."
   ]
  },
  {
   "cell_type": "code",
   "execution_count": null,
   "metadata": {},
   "outputs": [],
   "source": [
    "A = np.eye(N)\n",
    "for k in range(1, 15):\n",
    "    A += np.diag(np.ones(N), k=k)[:N, :N]\n",
    "    A += np.diag(np.ones(N), k=-k)[:N, :N]"
   ]
  },
  {
   "cell_type": "code",
   "execution_count": null,
   "metadata": {},
   "outputs": [],
   "source": [
    "fig, axs = plt.subplots(figsize=(12,4), ncols=2, nrows=1)\n",
    "axs[0].imshow(A)\n",
    "axs[1].plot(x, A[N // 2,:], linewidth=2)"
   ]
  },
  {
   "cell_type": "markdown",
   "metadata": {},
   "source": [
    "We \"measure\" by multiplying our source signal $f$ by our measurement operator $A$: $\\xi = A f$.\n",
    "\n",
    "Effectively we average over consecutive windows."
   ]
  },
  {
   "cell_type": "code",
   "execution_count": null,
   "metadata": {},
   "outputs": [],
   "source": [
    "sigma = 2\n",
    "noise = sigma * np.random.randn(N)\n",
    "xi = np.dot(A, f) + noise"
   ]
  },
  {
   "cell_type": "code",
   "execution_count": null,
   "metadata": {},
   "outputs": [],
   "source": [
    "plt.figure(figsize=(12, 6))\n",
    "plt.plot(x, xi, linewidth=2)"
   ]
  },
  {
   "cell_type": "markdown",
   "metadata": {},
   "source": [
    "### 1. A LEAST SQUARES ESTIMATE\n",
    "\n",
    "We try to recover $f$ using a Least Squares Estimate:\n",
    "\n",
    "$$Af = \\xi$$\n",
    "\n",
    "The pseudo-inverse matrix is:\n",
    "\n",
    "$$A^+ = (A^T A)^{-1} A^T$$\n",
    "\n",
    "Then the solution looks like:\n",
    "\n",
    "$$f = A^+ \\xi$$"
   ]
  },
  {
   "cell_type": "code",
   "execution_count": null,
   "metadata": {},
   "outputs": [],
   "source": [
    "R = #<YOUR_CODE>\n",
    "Rxi = np.dot(R, xi)"
   ]
  },
  {
   "cell_type": "code",
   "execution_count": null,
   "metadata": {},
   "outputs": [],
   "source": [
    "plt.figure(figsize=(12,6))\n",
    "plt.plot(x, Rxi, linewidth=2)\n",
    "plt.title('Least Squares reconstruction')"
   ]
  },
  {
   "cell_type": "markdown",
   "metadata": {},
   "source": [
    "## What has happend?\n",
    "\n",
    "Our implementation of the pseudo-inverse is _poorly conditioned_. See the blackboard for understanding why.\n",
    "\n",
    "Generally it would be preferable to use specialized implementations of the inverse.\n",
    "Find more here: https://en.wikipedia.org/wiki/Generalized_inverse"
   ]
  },
  {
   "cell_type": "code",
   "execution_count": null,
   "metadata": {},
   "outputs": [],
   "source": [
    "np.linalg.pinv?"
   ]
  },
  {
   "cell_type": "code",
   "execution_count": null,
   "metadata": {},
   "outputs": [],
   "source": [
    "R_pinv = #<YOUR_CODE> \n",
    "R_pinv_xi = np.dot(R_pinv, xi)"
   ]
  },
  {
   "cell_type": "code",
   "execution_count": null,
   "metadata": {},
   "outputs": [],
   "source": [
    "plt.figure(figsize=(12,6))\n",
    "plt.plot(x, R_pinv_xi, linewidth=0.5, alpha=0.8)\n",
    "plt.plot(x, f, linewidth=2)\n",
    "plt.title('Reconstruction with np.linalg.pinv')"
   ]
  },
  {
   "cell_type": "markdown",
   "metadata": {},
   "source": [
    "### REGULARIZE!"
   ]
  },
  {
   "cell_type": "code",
   "execution_count": null,
   "metadata": {},
   "outputs": [],
   "source": [
    "c = 1e-3\n",
    "R_reg = #<YOUR_CODE>\n",
    "Rxi_reg = np.dot(R_reg, xi)"
   ]
  },
  {
   "cell_type": "code",
   "execution_count": null,
   "metadata": {},
   "outputs": [],
   "source": [
    "plt.figure(figsize=(12,6))\n",
    "plt.plot(x, Rxi_reg, linewidth=2, alpha=0.6)\n",
    "plt.plot(x, f, linewidth=2)\n",
    "plt.title('Regularized reconstruction')"
   ]
  },
  {
   "cell_type": "markdown",
   "metadata": {},
   "source": [
    "#### How does one choose the regularization parameter?"
   ]
  },
  {
   "cell_type": "code",
   "execution_count": null,
   "metadata": {},
   "outputs": [],
   "source": [
    "reg_coeffs = np.linspace(0.1, 20, 80)\n",
    "reg_loss = []\n",
    "for c in reg_coeffs:\n",
    "    R_reg = #<YOUR_CODE> \n",
    "    Rxi_reg = np.dot(R_reg, xi)\n",
    "    loss = np.sum((f - Rxi_reg)**2)\n",
    "    reg_loss.append(loss)"
   ]
  },
  {
   "cell_type": "code",
   "execution_count": null,
   "metadata": {},
   "outputs": [],
   "source": [
    "plt.figure(figsize=(12,6))\n",
    "plt.plot(reg_coeffs, reg_loss, 'o-', linewidth=2)\n",
    "plt.title('MSE depending on the regularization parameter')"
   ]
  },
  {
   "cell_type": "code",
   "execution_count": null,
   "metadata": {
    "scrolled": true
   },
   "outputs": [],
   "source": [
    "reg_coeffs[np.argmin(reg_loss)]"
   ]
  },
  {
   "cell_type": "code",
   "execution_count": null,
   "metadata": {},
   "outputs": [],
   "source": [
    "c = reg_coeffs[np.argmin(reg_loss)]\n",
    "R_reg = #<YOUR_CODE>\n",
    "Rxi_reg = np.dot(R_reg, xi)"
   ]
  },
  {
   "cell_type": "code",
   "execution_count": null,
   "metadata": {},
   "outputs": [],
   "source": [
    "plt.figure(figsize=(12,6))\n",
    "plt.plot(x, Rxi_reg, linewidth=2, alpha=0.6)\n",
    "plt.plot(x, f, linewidth=2)\n",
    "plt.title('Regularized reconstruction (optimal regularization)')"
   ]
  },
  {
   "cell_type": "markdown",
   "metadata": {},
   "source": [
    "# 2. Singular Value Decomposition\n",
    "\n",
    "### A bit of theory on how this all works: \n",
    "\n",
    "$$A_{n \\times m } = U_{m \\times m } \\Sigma_{m \\times n } V_{n \\times n }$$"
   ]
  },
  {
   "cell_type": "code",
   "execution_count": null,
   "metadata": {},
   "outputs": [],
   "source": [
    "np.linalg.svd?"
   ]
  },
  {
   "cell_type": "code",
   "execution_count": null,
   "metadata": {},
   "outputs": [],
   "source": [
    "U, S, V = np.linalg.svd(A)"
   ]
  },
  {
   "cell_type": "code",
   "execution_count": null,
   "metadata": {},
   "outputs": [],
   "source": [
    "plt.figure(figsize=(12,6))\n",
    "plt.plot(S**2, '.-', linewidth=2)\n",
    "plt.title('Eigenvalues of $A$')"
   ]
  },
  {
   "cell_type": "code",
   "execution_count": null,
   "metadata": {},
   "outputs": [],
   "source": [
    "fig, axs = plt.subplots(figsize=(18, 10), ncols=4, nrows=2)\n",
    "for i in range(4):\n",
    "    axs[0, i].plot(x, V[i])\n",
    "    axs[0, i].set_title('Eigenfunction #{}'.format(i))\n",
    "for i in range(4):\n",
    "    axs[1, i].plot(x, V[N-(4 + i) * 20])\n",
    "    axs[1, i].set_title('Eigenfunction #{}'.format(N-(4 + i) * 20))"
   ]
  },
  {
   "cell_type": "code",
   "execution_count": null,
   "metadata": {},
   "outputs": [],
   "source": [
    "# Filtered signal \n",
    "fig, axs = plt.subplots(figsize=(16,6), ncols=2, nrows=1)\n",
    "axs[0].plot(x, np.dot(V, Rxi), linewidth=2)\n",
    "axs[1].plot(x, np.dot(V, Rxi_reg), linewidth=2)"
   ]
  },
  {
   "cell_type": "markdown",
   "metadata": {},
   "source": [
    "### We _change the basis_ to be the _eigenbasis_ of $A$ and do the very same actions as before\n",
    "\n",
    "How does one change the basis to $A$'s basis, knowing $U$, $V$, and $S$ matrixes?"
   ]
  },
  {
   "cell_type": "code",
   "execution_count": null,
   "metadata": {},
   "outputs": [],
   "source": [
    "f_wave = np.dot(V, f) \n",
    "noise_wave = np.dot(V, noise) "
   ]
  },
  {
   "cell_type": "code",
   "execution_count": null,
   "metadata": {},
   "outputs": [],
   "source": [
    "A_wave = np.diag(S)"
   ]
  },
  {
   "cell_type": "code",
   "execution_count": null,
   "metadata": {},
   "outputs": [],
   "source": [
    "xi_wave = np.dot(A_wave, f_wave) + noise_wave"
   ]
  },
  {
   "cell_type": "code",
   "execution_count": null,
   "metadata": {},
   "outputs": [],
   "source": [
    "fig, axs = plt.subplots(figsize=(16,6), ncols=2, nrows=1)\n",
    "\n",
    "axs[0].plot(xi_wave, linewidth=2)\n",
    "axs[0].set_title('Filtered signal in the eigenbasis of $A$')\n",
    "\n",
    "# Our xi_wave - signal in basis of A operator\n",
    "# let's return to the prevous basis to show that the signals are the same\n",
    "axs[1].plot(np.dot(V.T, xi_wave), linewidth=2) \n",
    "axs[1].set_title('Filtered signal after measurement')"
   ]
  },
  {
   "cell_type": "markdown",
   "metadata": {},
   "source": [
    "Let's now perform inversion in the very same basis."
   ]
  },
  {
   "cell_type": "code",
   "execution_count": null,
   "metadata": {},
   "outputs": [],
   "source": [
    "R_wave = #<YOUR_CODE>\n",
    "R_wave_xi = np.dot(R_wave, xi_wave)"
   ]
  },
  {
   "cell_type": "code",
   "execution_count": null,
   "metadata": {},
   "outputs": [],
   "source": [
    "plt.figure(figsize=(12,6))\n",
    "plt.plot(np.diag(R_wave), '.-', linewidth=2)\n",
    "plt.title('Smoker\\'s inverse')\n",
    "plt.yscale('log')"
   ]
  },
  {
   "cell_type": "code",
   "execution_count": null,
   "metadata": {},
   "outputs": [],
   "source": [
    "fig, axs = plt.subplots(figsize=(16,6), ncols=2, nrows=1)\n",
    "axs[0].plot(R_wave_xi, linewidth=2)\n",
    "axs[0].set_title('Reconstructed signal in the operators\\' basis')\n",
    "\n",
    "axs[1].plot(np.dot(V.T, R_wave_xi), linewidth=2)\n",
    "axs[1].set_title('Reconstructed signal')"
   ]
  },
  {
   "cell_type": "markdown",
   "metadata": {},
   "source": [
    "More precision-related issues :("
   ]
  },
  {
   "cell_type": "code",
   "execution_count": null,
   "metadata": {},
   "outputs": [],
   "source": [
    "R_pinv_wave = np.linalg.pinv(A_wave)\n",
    "R_pinv_wave_xi = np.dot(R_pinv_wave, xi_wave)"
   ]
  },
  {
   "cell_type": "code",
   "execution_count": null,
   "metadata": {},
   "outputs": [],
   "source": [
    "plt.figure(figsize=(12,6))\n",
    "plt.plot(np.diag(R_pinv_wave), '.-', linewidth=2)\n",
    "plt.title('Healthy man\\'s inverse')\n",
    "plt.yscale('log')"
   ]
  },
  {
   "cell_type": "code",
   "execution_count": null,
   "metadata": {},
   "outputs": [],
   "source": [
    "fig, axs = plt.subplots(figsize=(16,6), ncols=2, nrows=1)\n",
    "axs[0].plot(R_pinv_wave_xi, linewidth=2)\n",
    "axs[0].set_title('Reconstructed signal in the operators\\' basis')\n",
    "\n",
    "axs[1].plot(x, np.dot(V.T, R_pinv_wave_xi), linewidth=2)\n",
    "axs[1].set_title('Reconstructed signal')"
   ]
  },
  {
   "cell_type": "code",
   "execution_count": null,
   "metadata": {},
   "outputs": [],
   "source": [
    "c = reg_coeffs[np.argmin(reg_loss)]\n",
    "R_wave_reg = #<YOUR_CODE>\n",
    "R_wave_xi_reg = np.dot(R_wave_reg, xi_wave)"
   ]
  },
  {
   "cell_type": "code",
   "execution_count": null,
   "metadata": {},
   "outputs": [],
   "source": [
    "plt.figure(figsize=(12, 6))\n",
    "plt.plot(np.diag(R_wave_reg), '.-', linewidth=2)"
   ]
  },
  {
   "cell_type": "code",
   "execution_count": null,
   "metadata": {},
   "outputs": [],
   "source": [
    "fig, axs = plt.subplots(figsize=(16,6), ncols=2, nrows=1)\n",
    "axs[0].plot(R_wave_xi_reg, linewidth=2)\n",
    "axs[0].plot(f_wave, linewidth=2)\n",
    "axs[0].set_title('Reconstructed signal in the operators\\' basis')\n",
    "\n",
    "\n",
    "axs[1].plot(x, np.dot(V.T, R_wave_xi_reg), linewidth=2)\n",
    "axs[1].set_title('Reconstructed signal')"
   ]
  }
 ],
 "metadata": {
  "kernelspec": {
   "display_name": "Python 3",
   "language": "python",
   "name": "python3"
  },
  "language_info": {
   "codemirror_mode": {
    "name": "ipython",
    "version": 3
   },
   "file_extension": ".py",
   "mimetype": "text/x-python",
   "name": "python",
   "nbconvert_exporter": "python",
   "pygments_lexer": "ipython3",
   "version": "3.7.1"
  }
 },
 "nbformat": 4,
 "nbformat_minor": 2
}
